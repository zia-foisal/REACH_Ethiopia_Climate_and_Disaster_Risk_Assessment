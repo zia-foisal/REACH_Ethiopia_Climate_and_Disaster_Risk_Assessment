{
 "cells": [
  {
   "cell_type": "code",
   "execution_count": 1,
   "metadata": {},
   "outputs": [
    {
     "name": "stderr",
     "output_type": "stream",
     "text": [
      "c:\\Users\\Zia\\.conda\\envs\\geoenv\\Lib\\site-packages\\osgeo\\gdal.py:312: FutureWarning: Neither gdal.UseExceptions() nor gdal.DontUseExceptions() has been explicitly called. In GDAL 4.0, exceptions will be enabled by default.\n",
      "  warnings.warn(\n"
     ]
    }
   ],
   "source": [
    "from osgeo import gdal\n",
    "\n",
    "# Open the source raster\n",
    "src_ds = gdal.Open(\"./ETH_AGR.tif\")\n",
    "driver = gdal.GetDriverByName('GTiff')\n",
    "\n",
    "# Create a copy of the raster with compression\n",
    "dst_ds = driver.CreateCopy('ETH_AGR_compressed.tif', src_ds, options=['COMPRESS=LZW'])\n",
    "\n",
    "# Close the datasets\n",
    "src_ds = None\n",
    "dst_ds = None"
   ]
  },
  {
   "cell_type": "code",
   "execution_count": 1,
   "metadata": {},
   "outputs": [],
   "source": [
    "import numpy as np\n",
    "import rasterio\n",
    "from rasterio.enums import Resampling\n",
    "\n",
    "def resample_raster(input_raster_path, output_raster_path, scale_factor):\n",
    "    # Open the input raster file\n",
    "    with rasterio.open(input_raster_path) as src:\n",
    "        # Read the data from the input raster\n",
    "        data = src.read(\n",
    "            out_shape=(\n",
    "                src.count,\n",
    "                int(src.height / scale_factor),\n",
    "                int(src.width / scale_factor)\n",
    "            ),\n",
    "            resampling=Resampling.average\n",
    "        )\n",
    "\n",
    "        # Scale image transform\n",
    "        transform = src.transform * src.transform.scale(\n",
    "            (src.width / data.shape[-1]),\n",
    "            (src.height / data.shape[-2])\n",
    "        )\n",
    "\n",
    "        # Update metadata\n",
    "        metadata = src.meta.copy()\n",
    "        metadata.update({\n",
    "            'height': data.shape[1],\n",
    "            'width': data.shape[2],\n",
    "            'transform': transform\n",
    "        })\n",
    "\n",
    "        # Write the resampled data to the output raster file\n",
    "        with rasterio.open(output_raster_path, 'w', **metadata) as dst:\n",
    "            dst.write(data)\n",
    "\n",
    "# Example usage\n",
    "input_raster_path = 'ETH_AGE.tif'\n",
    "output_raster_path = 'ETH_AGR.tif'\n",
    "scale_factor = 10  # Resample from 10m to 100m resolution\n",
    "\n",
    "resample_raster(input_raster_path, output_raster_path, scale_factor)"
   ]
  }
 ],
 "metadata": {
  "kernelspec": {
   "display_name": "geoenv",
   "language": "python",
   "name": "python3"
  },
  "language_info": {
   "codemirror_mode": {
    "name": "ipython",
    "version": 3
   },
   "file_extension": ".py",
   "mimetype": "text/x-python",
   "name": "python",
   "nbconvert_exporter": "python",
   "pygments_lexer": "ipython3",
   "version": "3.11.9"
  }
 },
 "nbformat": 4,
 "nbformat_minor": 2
}
